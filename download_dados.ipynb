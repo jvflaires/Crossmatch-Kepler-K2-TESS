{
 "cells": [
  {
   "cell_type": "markdown",
   "id": "55634116-bd01-49e6-b8e4-4bfa1871b45d",
   "metadata": {},
   "source": [
    "# Download dos dados dos exoplanetas"
   ]
  },
  {
   "cell_type": "markdown",
   "id": "f68e3e90-f331-41dc-bca7-34b6d2a2341e",
   "metadata": {},
   "source": [
    "---"
   ]
  },
  {
   "cell_type": "markdown",
   "id": "7715e992-505d-4a65-8d07-a0cdf058867c",
   "metadata": {},
   "source": [
    "Este notebook mostra como foi feita a seleção dos dados dos exoplanetas disponíveis na base de dados do __[NASA Exoplanet Archive](https://exoplanetarchive.ipac.caltech.edu/index.html)__, focando em exoplanetas que foram detectados pelos satélites __[Kepler](https://science.nasa.gov/mission/kepler/)__, __[K2](https://science.nasa.gov/mission/kepler/)__ e __[TESS](https://tess.mit.edu/)__.\n",
    "\n",
    "- João Aires (UFRN)\n",
    "- Leonardo Andrade de Almeida (ECT/UFRN)"
   ]
  },
  {
   "cell_type": "markdown",
   "id": "14d0d291-4435-4352-b884-f503bd7722fd",
   "metadata": {},
   "source": [
    "## 0. Bibliotecas"
   ]
  },
  {
   "cell_type": "markdown",
   "id": "19e99604-6060-44f5-ba35-07a2551b3cac",
   "metadata": {},
   "source": [
    "Iniciaremos importando algumas bibliotecas que serão de fundamental importância, são elas:\n",
    "\n",
    "- ```astropy```: utilizaremos a função ```ascii``` para salvar as tabelas com os dados em arquivos ```.dat```;\n",
    "- ```astroquery```: utilizaremos a função ```NasaExoplanetArchive``` para acessar remotamente o catálogo de exoplanetas da NASA;\n",
    "- ```datetime```: utilizaremos para salvar a data em que os arquivos foram criados;\n",
    "- ```os```: utilizaremos para manipulação de arquivos nos diretórios;\n",
    "- ```glob```: utilizaremos para listar todos os arquivos com determinado formato no diretório."
   ]
  },
  {
   "cell_type": "code",
   "execution_count": 65,
   "id": "fee12e1e-47f2-42d7-b778-abddeab77cbd",
   "metadata": {},
   "outputs": [
    {
     "name": "stdout",
     "output_type": "stream",
     "text": [
      "Data (YYYYMMDD): \t 20241117\n"
     ]
    }
   ],
   "source": [
    "# Bibliotecas que são utilizadas\n",
    "from astropy.io import ascii\n",
    "from astroquery.ipac.nexsci.nasa_exoplanet_archive import NasaExoplanetArchive\n",
    "from datetime import datetime\n",
    "import os\n",
    "import glob\n",
    "\n",
    "# Data (formato: YYYYMMDD) em que se está compilando\n",
    "query_date = datetime.now().strftime('%Y%m%d')\n",
    "print(f'Data (YYYYMMDD): \\t {query_date}')"
   ]
  },
  {
   "cell_type": "markdown",
   "id": "0c424265-4d6c-4697-b415-9a0dbd4879d1",
   "metadata": {},
   "source": [
    "## 1. Selecionando colunas relevantes"
   ]
  },
  {
   "cell_type": "markdown",
   "id": "98025af2-4f1d-44a5-bea4-46071451dbb3",
   "metadata": {},
   "source": [
    "Para nosso propósito, não necessitaremos de todas as colunas com informações que o _astroquery_ nos fornecerá. Portanto, selecionaremos somente aquelas que serão relevantes para o nosso propósito e as renomearemos para facilitar a utilização futura. As colunas a serem selecionadas (e suas respectivas renomeações) são:\n",
    "\n",
    "_format: coluna(renomeação)_\n",
    "\n",
    "- ```pl_name``` _(nome_planeta)_: Nome do exoplaneta;\n",
    "- ```hostname``` _(nome_estrela)_: Nome da estrela hospedeira;\n",
    "- ```disc_pubdate``` _(data_publicacao)_: Data (YYYY-MM) da publicação dos parâmetros planetários;\n",
    "- ```disc_year``` _(ano_deteccao)_: Ano de detecção do exoplaneta;\n",
    "- ```disc_facility``` _(missao)_: Missão que detectou o exoplaneta (Kepler, K2 ou TESS);\n",
    "- ```disc_refname``` _(referencia)_: Referência;\n",
    "- ```ra``` _(ra)_: Ascenção reta;\n",
    "- ```dec``` _(dec)_: Declinação.\n",
    "\n",
    "Uma vez que temos as colunas desejadas, criamos uma _string_ contendo seus nomes para facilitar (e reduzir o tempo) no processo de busca remota no catálogo."
   ]
  },
  {
   "cell_type": "code",
   "execution_count": 11,
   "id": "7344eb25-93aa-4dff-a1bd-8a52583c8c07",
   "metadata": {},
   "outputs": [
    {
     "name": "stdout",
     "output_type": "stream",
     "text": [
      "Colunas utilizadas: \t pl_name,hostname,disc_pubdate,disc_year,disc_facility,disc_refname,ra,dec\n"
     ]
    }
   ],
   "source": [
    "# Colunas que serão salvas na tabela\n",
    "colnames     = ['pl_name', 'hostname', 'disc_pubdate', 'disc_year', 'disc_facility', 'disc_refname', 'ra', 'dec']\n",
    "colnames_new = ['nome_planeta', 'nome_estrela', 'data_publicacao', 'ano_deteccao', 'missao', 'referencia', 'ra', 'dec']\n",
    "\n",
    "# Loop para criar a string utilizada no query para selecionar as colunas que serão salvas\n",
    "col_string = ''\n",
    "for i,col in enumerate(colnames):\n",
    "    if i+1 < len(colnames):\n",
    "        col_string = col_string + f'{col},'\n",
    "    else:\n",
    "        col_string = col_string + f'{col}'\n",
    "\n",
    "print(f'Colunas utilizadas: \\t {col_string}')"
   ]
  },
  {
   "cell_type": "markdown",
   "id": "4fd99163-41f6-42f5-9b41-4d868d7b0cc6",
   "metadata": {},
   "source": [
    "## 2. Busca no catálogo e salvando resultado"
   ]
  },
  {
   "cell_type": "markdown",
   "id": "6f23bc9e-137d-4906-a00c-8f9abe4988bc",
   "metadata": {},
   "source": [
    "Agora que já temos as colunas desejadas para realizar a busca de forma eficiente no catálogo de exoplanetas, vamos realizar esta busca para cada uma das missões espaciais (Kepler, K2 e TESS). Primeiro, excluiremos os arquivos existentes (se houverem).\n",
    "\n",
    "__Obs.: Caso não queira excluir, pule esta célula.__"
   ]
  },
  {
   "cell_type": "code",
   "execution_count": 69,
   "id": "71bd9669-08d3-4e74-97d3-15398703e79e",
   "metadata": {},
   "outputs": [],
   "source": [
    "list_files = glob.glob('*_exoplanets_*.dat')\n",
    "for f in list_files:\n",
    "    os.remove(f)"
   ]
  },
  {
   "cell_type": "markdown",
   "id": "742fae7a-ab4a-4183-887f-412044f6f6a2",
   "metadata": {},
   "source": [
    "Uttilizamos a função ```query_criteria``` do ```NasaExoplanetArchive```, passando como input a tabela ```'ps'``` que contém todos os sistemas planetários (como descrito no __[link](https://exoplanetarchive.ipac.caltech.edu/docs/TAP/usingTAP.html)__), as colunas selecionadas e a missão que detectou o exoplaneta (```disc_facility```) juntamente com a flag para selecionar somente aquelas linhas da tabela com o parâmetro default do exoplaneta (```default_flag=1```).\n",
    "\n",
    "As tabelas contendo os dados finais foram salvas em arquivos ```.dat``` com a seguinte formatação: \n",
    "\n",
    "_'missao_exoplanets_YYYYMMDD.dat'_"
   ]
  },
  {
   "cell_type": "code",
   "execution_count": 72,
   "id": "30f55db2-8bdd-4d16-8c36-7bbf8001724e",
   "metadata": {},
   "outputs": [
    {
     "name": "stdout",
     "output_type": "stream",
     "text": [
      "Exoplanetas do K2 foram salvos em: \t\t K2_exoplanets_20241117.dat\n",
      "Exoplanetas do Kepler foram salvos em: \t\t Kepler_exoplanets_20241117.dat\n",
      "Exoplanetas do TESS foram salvos em: \t\t TESS_exoplanets_20241117.dat\n",
      "\n",
      "\n",
      "Resumo dos dados\n",
      "(NASA Exoplanet Archive)\n",
      "-----------------------------------------\n",
      "Kepler: \t\t 2778 planetas\n",
      "K2: \t\t\t 548 planetas\n",
      "TESS: \t\t\t 570 planetas\n",
      "-----------------------------------------\n",
      "Total: \t\t\t 3896 planetas\n"
     ]
    }
   ],
   "source": [
    "# Fazendo o download dos exoplanetas descobertos pelo K2 e salvando\n",
    "k2     = NasaExoplanetArchive.query_criteria(table=\"ps\", select=col_string, where=\"disc_facility like '%K2%' and default_flag=1\")\n",
    "for co,cn in zip(colnames, colnames_new):\n",
    "    k2[co].name = cn\n",
    "filename = 'K2_exoplanets_'+query_date+'.dat'\n",
    "ascii.write(k2, filename, overwrite=True)\n",
    "print(f'Exoplanetas do K2 foram salvos em: \\t\\t {filename}')\n",
    "\n",
    "# Fazendo o download dos exoplanetas descobertos pelo Kepler e salvando\n",
    "kepler = NasaExoplanetArchive.query_criteria(table=\"ps\", select=col_string, where=\"disc_facility like '%Kepler%' and default_flag=1\")\n",
    "for co,cn in zip(colnames, colnames_new):\n",
    "    kepler[co].name = cn\n",
    "filename = 'Kepler_exoplanets_'+query_date+'.dat'\n",
    "ascii.write(kepler, filename, overwrite=True)\n",
    "print(f'Exoplanetas do Kepler foram salvos em: \\t\\t {filename}')\n",
    "\n",
    "# Fazendo o download dos exoplanetas descobertos pelo TESS e salvando\n",
    "tess   = NasaExoplanetArchive.query_criteria(table=\"ps\", select=col_string, where=\"disc_facility like '%TESS%' and default_flag=1\")\n",
    "for co,cn in zip(colnames, colnames_new):\n",
    "    tess[co].name = cn\n",
    "filename = 'TESS_exoplanets_'+query_date+'.dat'\n",
    "ascii.write(tess, filename, overwrite=True)\n",
    "print(f'Exoplanetas do TESS foram salvos em: \\t\\t {filename}')\n",
    "\n",
    "\n",
    "# Contagem de objetos nos arquivos \n",
    "print('')\n",
    "print('')\n",
    "\n",
    "print('Resumo dos dados')\n",
    "print('(NASA Exoplanet Archive)')\n",
    "print('-----------------------------------------')\n",
    "print(f'Kepler: \\t\\t {len(kepler)} planetas')\n",
    "print(f'K2: \\t\\t\\t {len(k2)} planetas')\n",
    "print(f'TESS: \\t\\t\\t {len(tess)} planetas')\n",
    "print('-----------------------------------------')\n",
    "print(f'Total: \\t\\t\\t {len(kepler) + len(k2) + len(tess)} planetas')"
   ]
  }
 ],
 "metadata": {
  "kernelspec": {
   "display_name": "Python 3 (ipykernel)",
   "language": "python",
   "name": "python3"
  },
  "language_info": {
   "codemirror_mode": {
    "name": "ipython",
    "version": 3
   },
   "file_extension": ".py",
   "mimetype": "text/x-python",
   "name": "python",
   "nbconvert_exporter": "python",
   "pygments_lexer": "ipython3",
   "version": "3.12.7"
  }
 },
 "nbformat": 4,
 "nbformat_minor": 5
}
